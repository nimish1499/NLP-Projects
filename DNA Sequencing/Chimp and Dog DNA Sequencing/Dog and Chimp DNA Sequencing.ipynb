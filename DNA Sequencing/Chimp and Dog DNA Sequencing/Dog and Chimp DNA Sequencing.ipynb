{
 "cells": [
  {
   "cell_type": "code",
   "execution_count": 1,
   "metadata": {},
   "outputs": [],
   "source": [
    "import numpy as np\n",
    "import pandas as pd\n",
    "import matplotlib.pyplot as plt\n",
    "import seaborn as sns"
   ]
  },
  {
   "cell_type": "code",
   "execution_count": 2,
   "metadata": {},
   "outputs": [],
   "source": [
    "dog_data = pd.read_table('dog_data.txt')\n",
    "chimp_data = pd.read_table('chimp_data.txt')"
   ]
  },
  {
   "cell_type": "code",
   "execution_count": 3,
   "metadata": {},
   "outputs": [
    {
     "data": {
      "text/html": [
       "<div>\n",
       "<style scoped>\n",
       "    .dataframe tbody tr th:only-of-type {\n",
       "        vertical-align: middle;\n",
       "    }\n",
       "\n",
       "    .dataframe tbody tr th {\n",
       "        vertical-align: top;\n",
       "    }\n",
       "\n",
       "    .dataframe thead th {\n",
       "        text-align: right;\n",
       "    }\n",
       "</style>\n",
       "<table border=\"1\" class=\"dataframe\">\n",
       "  <thead>\n",
       "    <tr style=\"text-align: right;\">\n",
       "      <th></th>\n",
       "      <th>sequence</th>\n",
       "      <th>class</th>\n",
       "    </tr>\n",
       "  </thead>\n",
       "  <tbody>\n",
       "    <tr>\n",
       "      <th>0</th>\n",
       "      <td>ATGCCCCAACTAAATACCGCCGTATGACCCACCATAATTACCCCCA...</td>\n",
       "      <td>4</td>\n",
       "    </tr>\n",
       "    <tr>\n",
       "      <th>1</th>\n",
       "      <td>ATGAACGAAAATCTATTCGCTTCATTCGCTGCCCCCACAATCCTAG...</td>\n",
       "      <td>4</td>\n",
       "    </tr>\n",
       "    <tr>\n",
       "      <th>2</th>\n",
       "      <td>ATGGCCTCGCGCTGGTGGCGGTGGCGACGCGGCTGCTCCTGGAGGC...</td>\n",
       "      <td>4</td>\n",
       "    </tr>\n",
       "    <tr>\n",
       "      <th>3</th>\n",
       "      <td>ATGGCCTCGCGCTGGTGGCGGTGGCGACGCGGCTGCTCCTGGAGGC...</td>\n",
       "      <td>4</td>\n",
       "    </tr>\n",
       "    <tr>\n",
       "      <th>4</th>\n",
       "      <td>ATGGGCAGCGCCAGCCCGGGTCTGAGCAGCGTGTCCCCCAGCCACC...</td>\n",
       "      <td>6</td>\n",
       "    </tr>\n",
       "  </tbody>\n",
       "</table>\n",
       "</div>"
      ],
      "text/plain": [
       "                                            sequence  class\n",
       "0  ATGCCCCAACTAAATACCGCCGTATGACCCACCATAATTACCCCCA...      4\n",
       "1  ATGAACGAAAATCTATTCGCTTCATTCGCTGCCCCCACAATCCTAG...      4\n",
       "2  ATGGCCTCGCGCTGGTGGCGGTGGCGACGCGGCTGCTCCTGGAGGC...      4\n",
       "3  ATGGCCTCGCGCTGGTGGCGGTGGCGACGCGGCTGCTCCTGGAGGC...      4\n",
       "4  ATGGGCAGCGCCAGCCCGGGTCTGAGCAGCGTGTCCCCCAGCCACC...      6"
      ]
     },
     "execution_count": 3,
     "metadata": {},
     "output_type": "execute_result"
    }
   ],
   "source": [
    "chimp_data.head()"
   ]
  },
  {
   "cell_type": "code",
   "execution_count": 4,
   "metadata": {},
   "outputs": [
    {
     "data": {
      "text/plain": [
       "array([4, 6, 0, 1, 3, 2, 5], dtype=int64)"
      ]
     },
     "execution_count": 4,
     "metadata": {},
     "output_type": "execute_result"
    }
   ],
   "source": [
    "chimp_data['class'].unique()"
   ]
  },
  {
   "cell_type": "code",
   "execution_count": 5,
   "metadata": {},
   "outputs": [
    {
     "data": {
      "text/plain": [
       "<matplotlib.axes._subplots.AxesSubplot at 0x1f923b91a08>"
      ]
     },
     "execution_count": 5,
     "metadata": {},
     "output_type": "execute_result"
    },
    {
     "data": {
      "image/png": "[encoded data removed]",
      "text/plain": [
       "<Figure size 432x288 with 1 Axes>"
      ]
     },
     "metadata": {
      "needs_background": "light"
     },
     "output_type": "display_data"
    }
   ],
   "source": [
    "# Checking for a Balanced Dataset\n",
    "sns.countplot(chimp_data['class'])"
   ]
  },
  {
   "cell_type": "markdown",
   "metadata": {},
   "source": [
    "### Feature Engineering"
   ]
  },
  {
   "cell_type": "code",
   "execution_count": 6,
   "metadata": {},
   "outputs": [],
   "source": [
    "# function to convert sequence strings into k-mer words, default size = 6 (hexamer words)\n",
    "def getKmers(sequence, size=6):\n",
    "    return [sequence[x:x+size].lower() for x in range(len(sequence) - size + 1)]\n"
   ]
  },
  {
   "cell_type": "code",
   "execution_count": 7,
   "metadata": {},
   "outputs": [],
   "source": [
    "chimp_data['words'] = chimp_data.apply(lambda x: getKmers(x['sequence']), axis=1)\n",
    "chimp_data = chimp_data.drop('sequence', axis=1)"
   ]
  },
  {
   "cell_type": "code",
   "execution_count": 8,
   "metadata": {},
   "outputs": [
    {
     "data": {
      "text/html": [
       "<div>\n",
       "<style scoped>\n",
       "    .dataframe tbody tr th:only-of-type {\n",
       "        vertical-align: middle;\n",
       "    }\n",
       "\n",
       "    .dataframe tbody tr th {\n",
       "        vertical-align: top;\n",
       "    }\n",
       "\n",
       "    .dataframe thead th {\n",
       "        text-align: right;\n",
       "    }\n",
       "</style>\n",
       "<table border=\"1\" class=\"dataframe\">\n",
       "  <thead>\n",
       "    <tr style=\"text-align: right;\">\n",
       "      <th></th>\n",
       "      <th>class</th>\n",
       "      <th>words</th>\n",
       "    </tr>\n",
       "  </thead>\n",
       "  <tbody>\n",
       "    <tr>\n",
       "      <th>0</th>\n",
       "      <td>4</td>\n",
       "      <td>[atgccc, tgcccc, gcccca, ccccaa, cccaac, ccaac...</td>\n",
       "    </tr>\n",
       "    <tr>\n",
       "      <th>1</th>\n",
       "      <td>4</td>\n",
       "      <td>[atgaac, tgaacg, gaacga, aacgaa, acgaaa, cgaaa...</td>\n",
       "    </tr>\n",
       "    <tr>\n",
       "      <th>2</th>\n",
       "      <td>4</td>\n",
       "      <td>[atggcc, tggcct, ggcctc, gcctcg, cctcgc, ctcgc...</td>\n",
       "    </tr>\n",
       "    <tr>\n",
       "      <th>3</th>\n",
       "      <td>4</td>\n",
       "      <td>[atggcc, tggcct, ggcctc, gcctcg, cctcgc, ctcgc...</td>\n",
       "    </tr>\n",
       "    <tr>\n",
       "      <th>4</th>\n",
       "      <td>6</td>\n",
       "      <td>[atgggc, tgggca, gggcag, ggcagc, gcagcg, cagcg...</td>\n",
       "    </tr>\n",
       "  </tbody>\n",
       "</table>\n",
       "</div>"
      ],
      "text/plain": [
       "   class                                              words\n",
       "0      4  [atgccc, tgcccc, gcccca, ccccaa, cccaac, ccaac...\n",
       "1      4  [atgaac, tgaacg, gaacga, aacgaa, acgaaa, cgaaa...\n",
       "2      4  [atggcc, tggcct, ggcctc, gcctcg, cctcgc, ctcgc...\n",
       "3      4  [atggcc, tggcct, ggcctc, gcctcg, cctcgc, ctcgc...\n",
       "4      6  [atgggc, tgggca, gggcag, ggcagc, gcagcg, cagcg..."
      ]
     },
     "execution_count": 8,
     "metadata": {},
     "output_type": "execute_result"
    }
   ],
   "source": [
    "chimp_data.head()"
   ]
  },
  {
   "cell_type": "code",
   "execution_count": 9,
   "metadata": {},
   "outputs": [],
   "source": [
    "# Similarly for dog data\n",
    "dog_data['words'] = dog_data.apply(lambda x: getKmers(x['sequence']), axis=1)\n",
    "dog_data = dog_data.drop('sequence', axis=1)"
   ]
  },
  {
   "cell_type": "code",
   "execution_count": 10,
   "metadata": {},
   "outputs": [
    {
     "data": {
      "text/html": [
       "<div>\n",
       "<style scoped>\n",
       "    .dataframe tbody tr th:only-of-type {\n",
       "        vertical-align: middle;\n",
       "    }\n",
       "\n",
       "    .dataframe tbody tr th {\n",
       "        vertical-align: top;\n",
       "    }\n",
       "\n",
       "    .dataframe thead th {\n",
       "        text-align: right;\n",
       "    }\n",
       "</style>\n",
       "<table border=\"1\" class=\"dataframe\">\n",
       "  <thead>\n",
       "    <tr style=\"text-align: right;\">\n",
       "      <th></th>\n",
       "      <th>class</th>\n",
       "      <th>words</th>\n",
       "    </tr>\n",
       "  </thead>\n",
       "  <tbody>\n",
       "    <tr>\n",
       "      <th>0</th>\n",
       "      <td>4</td>\n",
       "      <td>[atgcca, tgccac, gccaca, ccacag, cacagc, acagc...</td>\n",
       "    </tr>\n",
       "    <tr>\n",
       "      <th>1</th>\n",
       "      <td>4</td>\n",
       "      <td>[atgaac, tgaacg, gaacga, aacgaa, acgaaa, cgaaa...</td>\n",
       "    </tr>\n",
       "    <tr>\n",
       "      <th>2</th>\n",
       "      <td>6</td>\n",
       "      <td>[atggaa, tggaaa, ggaaac, gaaaca, aaacac, aacac...</td>\n",
       "    </tr>\n",
       "    <tr>\n",
       "      <th>3</th>\n",
       "      <td>6</td>\n",
       "      <td>[atgtgc, tgtgca, gtgcac, tgcact, gcacta, cacta...</td>\n",
       "    </tr>\n",
       "    <tr>\n",
       "      <th>4</th>\n",
       "      <td>0</td>\n",
       "      <td>[atgagc, tgagcc, gagccg, agccgg, gccggc, ccggc...</td>\n",
       "    </tr>\n",
       "  </tbody>\n",
       "</table>\n",
       "</div>"
      ],
      "text/plain": [
       "   class                                              words\n",
       "0      4  [atgcca, tgccac, gccaca, ccacag, cacagc, acagc...\n",
       "1      4  [atgaac, tgaacg, gaacga, aacgaa, acgaaa, cgaaa...\n",
       "2      6  [atggaa, tggaaa, ggaaac, gaaaca, aaacac, aacac...\n",
       "3      6  [atgtgc, tgtgca, gtgcac, tgcact, gcacta, cacta...\n",
       "4      0  [atgagc, tgagcc, gagccg, agccgg, gccggc, ccggc..."
      ]
     },
     "execution_count": 10,
     "metadata": {},
     "output_type": "execute_result"
    }
   ],
   "source": [
    "dog_data.head()"
   ]
  },
  {
   "cell_type": "markdown",
   "metadata": {},
   "source": [
    "Converting the list of words to string for Bag of Words"
   ]
  },
  {
   "cell_type": "code",
   "execution_count": 11,
   "metadata": {},
   "outputs": [],
   "source": [
    "chimp_text = list(chimp_data['words'])\n",
    "dog_text = list(dog_data['words'])"
   ]
  },
  {
   "cell_type": "code",
   "execution_count": 12,
   "metadata": {},
   "outputs": [],
   "source": [
    "# For Cat\n",
    "for i in range(len(chimp_text)):\n",
    "    chimp_text[i] = \" \".join(chimp_text[i])"
   ]
  },
  {
   "cell_type": "code",
   "execution_count": 13,
   "metadata": {},
   "outputs": [
    {
     "data": {
      "text/plain": [
       "'atgaac tgaacg gaacga aacgaa acgaaa cgaaaa gaaaat aaaatc aaatct aatcta atctat tctatt ctattc tattcg attcgc ttcgct tcgctt cgcttc gcttca cttcat ttcatt tcattc cattcg attcgc ttcgct tcgctg cgctgc gctgcc ctgccc tgcccc gccccc ccccca ccccac cccaca ccacaa cacaat acaatc caatcc aatcct atccta tcctag cctagg ctaggc taggct aggctt ggctta gcttac cttacc ttaccc tacccg acccgc cccgcc ccgccg cgccgc gccgca ccgcag cgcagt gcagta cagtac agtact gtacta tactaa actaat ctaatc taatca aatcat atcatt tcattc cattct attcta ttctat tctatt ctattc tattcc attccc ttcccc tccccc cccccc ccccct cccctc ccctct cctcta ctctac tctact ctactg tactgg actggt ctggtc tggtcc ggtccc gtcccc tcccca ccccac cccact ccactt cacttc acttct cttcta ttctaa tctaaa ctaaac taaaca aaacat aacatc acatct catctc atctca tctcat ctcatc tcatca catcaa atcaac tcaaca caacaa aacaac acaacc caaccg aaccga accgac ccgact cgacta gactaa actaat ctaatt taatta aattac attacc ttacca taccac accacc ccaccc caccca acccaa cccaac ccaaca caacaa aacaat acaatg caatga aatgac atgact tgacta gactaa actaat ctaatt taattc aattca attcaa ttcaac tcaact caactg aactga actgac ctgacc tgacct gacctc acctca cctcaa ctcaaa tcaaaa caaaac aaaaca aaacaa aacaaa acaaat caaata aaataa aataat ataata taataa aataac ataact taacta aactat actata ctatac tataca atacac tacaca acacag cacagc acagca cagcac agcact gcacta cactaa actaaa ctaaag taaagg aaagga aaggac aggacg ggacga gacgaa acgaac cgaacc gaacct aacctg acctga cctgat ctgatc tgatct gatctc atctct tctctc ctctca tctcat ctcata tcatac catact atacta tactag actagt ctagta tagtat agtatc gtatcc tatcct atcctt tcctta ccttaa cttaat ttaatc taatca aatcat atcatt tcattt catttt attttt ttttta ttttat tttatt ttatta tattac attacc ttacca taccac accaca ccacaa cacaac acaacc caacca aaccaa accaat ccaatc caatct aatctt atcttc tcttct cttctt ttcttg tcttgg cttggg ttgggc tgggct gggctt ggcttc gcttct cttcta ttctac tctacc ctaccc tacccc acccca ccccac cccact ccactc cactca actcat ctcatt tcattc cattca attcac ttcaca tcacac cacacc acacca caccaa accaac ccaacc caacca aaccac accacc ccaccc caccca acccaa cccaac ccaact caacta aactat actatc ctatct tatcta atctat tctata ctataa tataaa ataaac taaacc aaacct aaccta acctag cctagc ctagcc tagcca agccat gccatg ccatgg catggc atggct tggcta ggctat gctatc ctatcc tatccc atcccc tccccc ccccct ccccta ccctat cctatg ctatga tatgag atgagc tgagca gagcag agcagg gcaggc caggcg aggcgc ggcgca gcgcag cgcagt gcagta cagtag agtagt gtagtc tagtca agtcat gtcata tcatag catagg ataggc taggct aggctt ggcttt gctttc ctttcg tttcgc ttcgct tcgctt cgcttt gcttta ctttaa tttaag ttaaga taagac aagact agacta gactaa actaaa ctaaaa taaaaa aaaaat aaaatg aaatgc aatgcc atgccc tgccct gcccta ccctag cctagc ctagcc tagccc agccca gcccac cccact ccactt cacttc acttct cttctt ttctta tcttac cttacc ttaccg taccgc accgca ccgcaa cgcaag gcaagg caaggc aaggca aggcac ggcaca gcacac cacacc acacct caccta acctac cctaca ctacac tacacc acaccc cacccc acccct cccctt ccctta ccttat cttatc ttatcc tatccc atcccc tcccca ccccat cccata ccatac catact atacta tactag actagt ctagtt tagtta agttat gttatc ttatca tatcat atcatc tcatcg catcga atcgaa tcgaaa cgaaac gaaact aaacta aactat actatt ctatta tattag attagc ttagcc tagcct agccta gcctac cctact ctactc tactca actcat ctcatt tcattc cattca attcaa ttcaac tcaacc caacca aaccaa accaat ccaata caatag aatagc atagcc tagcct agcctt gcctta ccttag cttagc ttagcc tagccg agccgt gccgta ccgtac cgtacg gtacgt tacgtc acgtct cgtcta gtctaa tctaac ctaacc taaccg aaccgc accgct ccgcta cgctaa gctaac ctaaca taacat aacatt acatta cattac attact ttactg tactgc actgca ctgcag tgcagg gcaggc caggcc aggcca ggccac gccacc ccacct caccta acctac cctact ctactc tactca actcat ctcatg tcatgc catgca atgcac tgcacc gcacct caccta acctaa cctaat ctaatt taattg aattgg attgga ttggaa tggaag ggaagc gaagcg aagcgc agcgcc gcgcca cgccac gccaca ccacac cacact acacta cactag actagc ctagca tagcat agcatt gcatta cattat attatc ttatca tatcaa atcaac tcaact caacta aactat actatc ctatca tatcaa atcaat tcaatc caatct aatcta atctac tctacc ctaccc taccct acccta ccctat cctatg ctatgc tatgca atgcac tgcact gcactc cactca actcat ctcatt tcatta cattat attatc ttatct tatctt atcttc tcttca cttcac ttcaca tcacaa cacaat acaatt caattc aattct attcta ttctaa tctaat ctaatc taatcc aatcct atccta tcctac cctact ctactg tactga actgac ctgact tgacta gactat actatt ctattc tattct attcta ttctag tctaga ctagag tagaga agagat gagatc agatcg gatcgc atcgcc tcgccg cgccgt gccgtc ccgtcg cgtcgc gtcgcc tcgcct cgcctt gcctta ccttaa cttaat ttaatc taatcc aatcca atccaa tccaag ccaagc caagcc aagcct agccta gcctac cctacg ctacgt tacgtt acgttt cgtttt gttttt ttttta ttttac tttaca ttacac tacact acactt cacttc acttct cttcta ttctag tctagt ctagtg tagtga agtgag gtgagc tgagcc gagcct agcctc gcctct cctcta ctctac tctacc ctacct tacctg acctgc cctgca ctgcac tgcacg gcacga cacgac acgaca cgacaa gacaac acaaca caacac aacaca acacat cacata acataa'"
      ]
     },
     "execution_count": 13,
     "metadata": {},
     "output_type": "execute_result"
    }
   ],
   "source": [
    "chimp_text[1]"
   ]
  },
  {
   "cell_type": "code",
   "execution_count": 14,
   "metadata": {},
   "outputs": [],
   "source": [
    "# For Dog\n",
    "for i in range(len(dog_text)):\n",
    "    dog_text[i] = \" \".join(dog_text[i])"
   ]
  },
  {
   "cell_type": "markdown",
   "metadata": {},
   "source": [
    "### Now we will apply the BAG of WORDS using CountVectorizer using NLP"
   ]
  },
  {
   "cell_type": "code",
   "execution_count": 15,
   "metadata": {},
   "outputs": [],
   "source": [
    "from sklearn.feature_extraction.text import CountVectorizer\n",
    "cv = CountVectorizer(ngram_range=(4,4))"
   ]
  },
  {
   "cell_type": "code",
   "execution_count": 16,
   "metadata": {},
   "outputs": [],
   "source": [
    "X = cv.fit_transform(chimp_text)\n",
    "y = chimp_data['class']"
   ]
  },
  {
   "cell_type": "code",
   "execution_count": 17,
   "metadata": {},
   "outputs": [
    {
     "name": "stdout",
     "output_type": "stream",
     "text": [
      "(1682, 229684)\n",
      "(1682,)\n"
     ]
    }
   ],
   "source": [
    "print(X.shape)\n",
    "print(y.shape)"
   ]
  },
  {
   "cell_type": "code",
   "execution_count": 18,
   "metadata": {},
   "outputs": [],
   "source": [
    "# Train_test Split\n",
    "from sklearn.model_selection import train_test_split\n",
    "X_train, X_test, y_train, y_test = train_test_split(X, y, test_size=0.25, random_state=0)"
   ]
  },
  {
   "cell_type": "code",
   "execution_count": 19,
   "metadata": {},
   "outputs": [
    {
     "data": {
      "text/plain": [
       "(1261, 229684)"
      ]
     },
     "execution_count": 19,
     "metadata": {},
     "output_type": "execute_result"
    }
   ],
   "source": [
    "X_train.shape"
   ]
  },
  {
   "cell_type": "markdown",
   "metadata": {},
   "source": [
    "### Multinomial Naive Bayes"
   ]
  },
  {
   "cell_type": "code",
   "execution_count": 20,
   "metadata": {},
   "outputs": [
    {
     "data": {
      "text/plain": [
       "MultinomialNB(alpha=0.1, class_prior=None, fit_prior=True)"
      ]
     },
     "execution_count": 20,
     "metadata": {},
     "output_type": "execute_result"
    }
   ],
   "source": [
    "from sklearn.naive_bayes import MultinomialNB\n",
    "classifier = MultinomialNB(alpha=0.1)\n",
    "classifier.fit(X_train, y_train)"
   ]
  },
  {
   "cell_type": "code",
   "execution_count": 21,
   "metadata": {},
   "outputs": [],
   "source": [
    "y_pred = classifier.predict(X_test)"
   ]
  },
  {
   "cell_type": "code",
   "execution_count": 22,
   "metadata": {},
   "outputs": [
    {
     "data": {
      "text/plain": [
       "0.9121140142517815"
      ]
     },
     "execution_count": 22,
     "metadata": {},
     "output_type": "execute_result"
    }
   ],
   "source": [
    "classifier.score(X_test, y_test)"
   ]
  },
  {
   "cell_type": "markdown",
   "metadata": {},
   "source": [
    "#### Various Accuracy Scores"
   ]
  },
  {
   "cell_type": "code",
   "execution_count": 23,
   "metadata": {},
   "outputs": [
    {
     "name": "stdout",
     "output_type": "stream",
     "text": [
      "Confusion matrix\n",
      "\n",
      "Predicted  0  1  2  3  4  5  6\n",
      "Actual                        \n",
      "0          2  5  2  1  3  0  6\n",
      "1          2  2  2  2  0  1  0\n",
      "2          1  1  0  2  0  0  1\n",
      "3          1  1  1  5  0  1  5\n",
      "4          2  3  1  5  1  0  7\n",
      "5          0  0  1  1  1  0  6\n",
      "6          3  2  4  2  3  5  9\n",
      "accuracy = 0.912 \n",
      "precision = 0.922 \n",
      "recall = 0.912 \n",
      "f1 = 0.912\n"
     ]
    }
   ],
   "source": [
    "from sklearn.metrics import accuracy_score, f1_score, precision_score, recall_score\n",
    "print(\"Confusion matrix\\n\")\n",
    "print(pd.crosstab(pd.Series(y_test, name='Actual'), pd.Series(y_pred, name='Predicted')))\n",
    "def get_metrics(y_test, y_predicted):\n",
    "    accuracy = accuracy_score(y_test, y_predicted)\n",
    "    precision = precision_score(y_test, y_predicted, average='weighted')\n",
    "    recall = recall_score(y_test, y_predicted, average='weighted')\n",
    "    f1 = f1_score(y_test, y_predicted, average='weighted')\n",
    "    return accuracy, precision, recall, f1\n",
    "accuracy, precision, recall, f1 = get_metrics(y_test, y_pred)\n",
    "print(\"accuracy = %.3f \\nprecision = %.3f \\nrecall = %.3f \\nf1 = %.3f\" % (accuracy, precision, recall, f1))"
   ]
  },
  {
   "cell_type": "markdown",
   "metadata": {},
   "source": [
    "### Similarly for Dog"
   ]
  },
  {
   "cell_type": "code",
   "execution_count": 24,
   "metadata": {},
   "outputs": [],
   "source": [
    "X = cv.fit_transform(dog_text)\n",
    "y = dog_data['class']"
   ]
  },
  {
   "cell_type": "code",
   "execution_count": 25,
   "metadata": {},
   "outputs": [],
   "source": [
    "# Train_test Split\n",
    "from sklearn.model_selection import train_test_split\n",
    "X_train, X_test, y_train, y_test = train_test_split(X, y, test_size=0.25, random_state=0)"
   ]
  },
  {
   "cell_type": "code",
   "execution_count": 26,
   "metadata": {},
   "outputs": [
    {
     "data": {
      "text/plain": [
       "MultinomialNB(alpha=0.1, class_prior=None, fit_prior=True)"
      ]
     },
     "execution_count": 26,
     "metadata": {},
     "output_type": "execute_result"
    }
   ],
   "source": [
    "## Naive Bayes\n",
    "from sklearn.naive_bayes import MultinomialNB\n",
    "classifier = MultinomialNB(alpha=0.1)\n",
    "classifier.fit(X_train, y_train)"
   ]
  },
  {
   "cell_type": "code",
   "execution_count": 27,
   "metadata": {},
   "outputs": [],
   "source": [
    "y_pred = classifier.predict(X_test)"
   ]
  },
  {
   "cell_type": "code",
   "execution_count": 28,
   "metadata": {},
   "outputs": [
    {
     "name": "stdout",
     "output_type": "stream",
     "text": [
      "Confusion matrix\n",
      "\n",
      "Predicted  0  1  2  3  4  5   6\n",
      "Actual                         \n",
      "0          3  4  0  1  1  0   5\n",
      "1          0  0  0  0  0  0   2\n",
      "2          2  0  0  0  0  0   0\n",
      "3          0  3  1  1  0  0   2\n",
      "4          1  0  0  1  0  1   1\n",
      "5          0  0  0  0  0  0   2\n",
      "6          4  0  2  0  1  1  10\n",
      "accuracy = 0.727 \n",
      "precision = 0.751 \n",
      "recall = 0.727 \n",
      "f1 = 0.712\n"
     ]
    }
   ],
   "source": [
    "# Testing accuracy of the model\n",
    "\n",
    "from sklearn.metrics import accuracy_score, f1_score, precision_score, recall_score\n",
    "print(\"Confusion matrix\\n\")\n",
    "print(pd.crosstab(pd.Series(y_test, name='Actual'), pd.Series(y_pred, name='Predicted')))\n",
    "def get_metrics(y_test, y_predicted):\n",
    "    accuracy = accuracy_score(y_test, y_predicted)\n",
    "    precision = precision_score(y_test, y_predicted, average='weighted')\n",
    "    recall = recall_score(y_test, y_predicted, average='weighted')\n",
    "    f1 = f1_score(y_test, y_predicted, average='weighted')\n",
    "    return accuracy, precision, recall, f1\n",
    "accuracy, precision, recall, f1 = get_metrics(y_test, y_pred)\n",
    "print(\"accuracy = %.3f \\nprecision = %.3f \\nrecall = %.3f \\nf1 = %.3f\" % (accuracy, precision, recall, f1))"
   ]
  }
 ],
 "metadata": {
  "kernelspec": {
   "display_name": "Python 3",
   "language": "python",
   "name": "python3"
  },
  "language_info": {
   "codemirror_mode": {
    "name": "ipython",
    "version": 3
   },
   "file_extension": ".py",
   "mimetype": "text/x-python",
   "name": "python",
   "nbconvert_exporter": "python",
   "pygments_lexer": "ipython3",
   "version": "3.7.6"
  }
 },
 "nbformat": 4,
 "nbformat_minor": 4
}
